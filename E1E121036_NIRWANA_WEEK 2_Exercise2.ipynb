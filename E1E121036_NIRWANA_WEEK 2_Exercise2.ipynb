{
 "cells": [
  {
   "cell_type": "markdown",
   "id": "80af936a",
   "metadata": {},
   "source": [
    " # Exercise : Files"
   ]
  },
  {
   "cell_type": "code",
   "execution_count": 3,
   "id": "9f62fcf6",
   "metadata": {},
   "outputs": [],
   "source": [
    "#Open File\n",
    "with open(\"invoices.csv\", \"r\") as f:\n",
    "    lines = f.readlines()"
   ]
  },
  {
   "cell_type": "code",
   "execution_count": 4,
   "id": "683aca33",
   "metadata": {},
   "outputs": [],
   "source": [
    "header = lines[0]"
   ]
  },
  {
   "cell_type": "code",
   "execution_count": 7,
   "id": "14b2c973",
   "metadata": {},
   "outputs": [],
   "source": [
    "header_names = header.split(\",\")"
   ]
  },
  {
   "cell_type": "code",
   "execution_count": 8,
   "id": "0678d0ef",
   "metadata": {},
   "outputs": [
    {
     "name": "stdout",
     "output_type": "stream",
     "text": [
      "Invoice No\n"
     ]
    }
   ],
   "source": [
    "print(header_names[0])"
   ]
  },
  {
   "cell_type": "code",
   "execution_count": 9,
   "id": "cd6c9b91",
   "metadata": {},
   "outputs": [
    {
     "name": "stdout",
     "output_type": "stream",
     "text": [
      "['13002', ' Lighthouse Entertainment', ' 13 Jan 2020', ' $45.60\\n']\n",
      "['13003', ' Main Street News', ' 13 Jan 2020', ' $100.20\\n']\n",
      "['13003', ' Lee Enterprise', ' 14 Jan 2020', ' $30.00\\n']\n",
      "['13004', ' Raju Store', ' 14 Jan 2020', ' $300.20\\n']\n"
     ]
    }
   ],
   "source": [
    "for line in lines[1:]:\n",
    "    invoice_data = line.split(\",\")\n",
    "    print(invoice_data)"
   ]
  },
  {
   "cell_type": "code",
   "execution_count": 10,
   "id": "0b9d71ac",
   "metadata": {},
   "outputs": [],
   "source": [
    "f.close()"
   ]
  },
  {
   "cell_type": "code",
   "execution_count": null,
   "id": "1bf12fd0",
   "metadata": {},
   "outputs": [],
   "source": []
  }
 ],
 "metadata": {
  "kernelspec": {
   "display_name": "Python 3 (ipykernel)",
   "language": "python",
   "name": "python3"
  },
  "language_info": {
   "codemirror_mode": {
    "name": "ipython",
    "version": 3
   },
   "file_extension": ".py",
   "mimetype": "text/x-python",
   "name": "python",
   "nbconvert_exporter": "python",
   "pygments_lexer": "ipython3",
   "version": "3.11.4"
  }
 },
 "nbformat": 4,
 "nbformat_minor": 5
}
