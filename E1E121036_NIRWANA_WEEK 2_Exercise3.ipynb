{
 "cells": [
  {
   "cell_type": "markdown",
   "id": "f895f029",
   "metadata": {},
   "source": [
    "# Exercise : Pandas Intro"
   ]
  },
  {
   "cell_type": "code",
   "execution_count": 1,
   "id": "7d6eaec8",
   "metadata": {},
   "outputs": [],
   "source": [
    "import pandas as pd"
   ]
  },
  {
   "cell_type": "code",
   "execution_count": 2,
   "id": "85cd8e37",
   "metadata": {},
   "outputs": [
    {
     "data": {
      "text/html": [
       "<div>\n",
       "<style scoped>\n",
       "    .dataframe tbody tr th:only-of-type {\n",
       "        vertical-align: middle;\n",
       "    }\n",
       "\n",
       "    .dataframe tbody tr th {\n",
       "        vertical-align: top;\n",
       "    }\n",
       "\n",
       "    .dataframe thead th {\n",
       "        text-align: right;\n",
       "    }\n",
       "</style>\n",
       "<table border=\"1\" class=\"dataframe\">\n",
       "  <thead>\n",
       "    <tr style=\"text-align: right;\">\n",
       "      <th></th>\n",
       "      <th>sepallength</th>\n",
       "      <th>sepalwidth</th>\n",
       "      <th>petallength</th>\n",
       "      <th>petalwidth</th>\n",
       "      <th>class</th>\n",
       "    </tr>\n",
       "  </thead>\n",
       "  <tbody>\n",
       "    <tr>\n",
       "      <th>34</th>\n",
       "      <td>4.9</td>\n",
       "      <td>3.1</td>\n",
       "      <td>1.5</td>\n",
       "      <td>0.1</td>\n",
       "      <td>Iris-setosa</td>\n",
       "    </tr>\n",
       "    <tr>\n",
       "      <th>37</th>\n",
       "      <td>4.9</td>\n",
       "      <td>3.1</td>\n",
       "      <td>1.5</td>\n",
       "      <td>0.1</td>\n",
       "      <td>Iris-setosa</td>\n",
       "    </tr>\n",
       "    <tr>\n",
       "      <th>142</th>\n",
       "      <td>5.8</td>\n",
       "      <td>2.7</td>\n",
       "      <td>5.1</td>\n",
       "      <td>1.9</td>\n",
       "      <td>Iris-virginica</td>\n",
       "    </tr>\n",
       "  </tbody>\n",
       "</table>\n",
       "</div>"
      ],
      "text/plain": [
       "     sepallength  sepalwidth  petallength  petalwidth           class\n",
       "34           4.9         3.1          1.5         0.1     Iris-setosa\n",
       "37           4.9         3.1          1.5         0.1     Iris-setosa\n",
       "142          5.8         2.7          5.1         1.9  Iris-virginica"
      ]
     },
     "execution_count": 2,
     "metadata": {},
     "output_type": "execute_result"
    }
   ],
   "source": [
    "irisdf = pd.read_csv('iris_csv.csv')\n",
    "irisdf[irisdf.duplicated()==True]"
   ]
  },
  {
   "cell_type": "markdown",
   "id": "61be923b",
   "metadata": {},
   "source": [
    "Q1. Display Data\n",
    "\n",
    "Display the first 8 rows of the DataFrame object irisdf"
   ]
  },
  {
   "cell_type": "code",
   "execution_count": 3,
   "id": "523ac432",
   "metadata": {},
   "outputs": [
    {
     "name": "stdout",
     "output_type": "stream",
     "text": [
      "   sepallength  sepalwidth  petallength  petalwidth        class\n",
      "0          5.1         3.5          1.4         0.2  Iris-setosa\n",
      "1          4.9         3.0          1.4         0.2  Iris-setosa\n",
      "2          4.7         3.2          1.3         0.2  Iris-setosa\n",
      "3          4.6         3.1          1.5         0.2  Iris-setosa\n",
      "4          5.0         3.6          1.4         0.2  Iris-setosa\n",
      "5          5.4         3.9          1.7         0.4  Iris-setosa\n",
      "6          4.6         3.4          1.4         0.3  Iris-setosa\n",
      "7          5.0         3.4          1.5         0.2  Iris-setosa\n"
     ]
    }
   ],
   "source": [
    "print(irisdf.head(8))"
   ]
  },
  {
   "cell_type": "markdown",
   "id": "e9bd714c",
   "metadata": {},
   "source": [
    "Q2. Basic Exploration\n",
    "\n",
    "Explore the data using the methods info() and describe()"
   ]
  },
  {
   "cell_type": "code",
   "execution_count": 4,
   "id": "b0ad6663",
   "metadata": {},
   "outputs": [
    {
     "name": "stdout",
     "output_type": "stream",
     "text": [
      "<class 'pandas.core.frame.DataFrame'>\n",
      "RangeIndex: 150 entries, 0 to 149\n",
      "Data columns (total 5 columns):\n",
      " #   Column       Non-Null Count  Dtype  \n",
      "---  ------       --------------  -----  \n",
      " 0   sepallength  150 non-null    float64\n",
      " 1   sepalwidth   150 non-null    float64\n",
      " 2   petallength  150 non-null    float64\n",
      " 3   petalwidth   150 non-null    float64\n",
      " 4   class        150 non-null    object \n",
      "dtypes: float64(4), object(1)\n",
      "memory usage: 6.0+ KB\n",
      "None\n"
     ]
    }
   ],
   "source": [
    "print(irisdf.info())"
   ]
  },
  {
   "cell_type": "code",
   "execution_count": 5,
   "id": "be0dd3ac",
   "metadata": {},
   "outputs": [
    {
     "name": "stdout",
     "output_type": "stream",
     "text": [
      "       sepallength  sepalwidth  petallength  petalwidth\n",
      "count   150.000000  150.000000   150.000000  150.000000\n",
      "mean      5.843333    3.054000     3.758667    1.198667\n",
      "std       0.828066    0.433594     1.764420    0.763161\n",
      "min       4.300000    2.000000     1.000000    0.100000\n",
      "25%       5.100000    2.800000     1.600000    0.300000\n",
      "50%       5.800000    3.000000     4.350000    1.300000\n",
      "75%       6.400000    3.300000     5.100000    1.800000\n",
      "max       7.900000    4.400000     6.900000    2.500000\n"
     ]
    }
   ],
   "source": [
    "print(irisdf.describe())"
   ]
  },
  {
   "cell_type": "markdown",
   "id": "5a1a42b6",
   "metadata": {},
   "source": [
    "Q3. Show Columns\n",
    "\n",
    "Show the names of the columns"
   ]
  },
  {
   "cell_type": "code",
   "execution_count": 6,
   "id": "7373d185",
   "metadata": {},
   "outputs": [
    {
     "name": "stdout",
     "output_type": "stream",
     "text": [
      "Index(['sepallength', 'sepalwidth', 'petallength', 'petalwidth', 'class'], dtype='object')\n"
     ]
    }
   ],
   "source": [
    "print(irisdf.columns)"
   ]
  },
  {
   "cell_type": "markdown",
   "id": "70baa8ce",
   "metadata": {},
   "source": [
    "Q4. Show Frequency\n",
    "\n",
    "Find how many observations there are for each unique value of class."
   ]
  },
  {
   "cell_type": "code",
   "execution_count": 7,
   "id": "b96cb870",
   "metadata": {},
   "outputs": [
    {
     "name": "stdout",
     "output_type": "stream",
     "text": [
      "Iris-setosa        50\n",
      "Iris-versicolor    50\n",
      "Iris-virginica     50\n",
      "Name: class, dtype: int64\n"
     ]
    }
   ],
   "source": [
    "class_frequency = irisdf['class'].value_counts()\n",
    "print(class_frequency)"
   ]
  },
  {
   "cell_type": "markdown",
   "id": "a4083bf2",
   "metadata": {},
   "source": [
    "Q5. Grouping\n",
    "\n",
    "Using the groupby() method, find the means of the numeric values by class."
   ]
  },
  {
   "cell_type": "code",
   "execution_count": 8,
   "id": "f7a431a3",
   "metadata": {},
   "outputs": [
    {
     "name": "stdout",
     "output_type": "stream",
     "text": [
      "                 sepallength  sepalwidth  petallength  petalwidth\n",
      "class                                                            \n",
      "Iris-setosa            5.006       3.418        1.464       0.244\n",
      "Iris-versicolor        5.936       2.770        4.260       1.326\n",
      "Iris-virginica         6.588       2.974        5.552       2.026\n"
     ]
    }
   ],
   "source": [
    "means_by_class = irisdf.groupby('class').mean()\n",
    "print(means_by_class)"
   ]
  },
  {
   "cell_type": "code",
   "execution_count": null,
   "id": "b8ab475a",
   "metadata": {},
   "outputs": [],
   "source": []
  }
 ],
 "metadata": {
  "kernelspec": {
   "display_name": "Python 3 (ipykernel)",
   "language": "python",
   "name": "python3"
  },
  "language_info": {
   "codemirror_mode": {
    "name": "ipython",
    "version": 3
   },
   "file_extension": ".py",
   "mimetype": "text/x-python",
   "name": "python",
   "nbconvert_exporter": "python",
   "pygments_lexer": "ipython3",
   "version": "3.11.4"
  }
 },
 "nbformat": 4,
 "nbformat_minor": 5
}
