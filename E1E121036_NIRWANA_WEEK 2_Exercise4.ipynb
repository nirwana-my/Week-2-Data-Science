{
 "cells": [
  {
   "cell_type": "markdown",
   "id": "9f2ea254",
   "metadata": {},
   "source": [
    "# Exercise : Pandas Wrangling"
   ]
  },
  {
   "cell_type": "code",
   "execution_count": 1,
   "id": "377f507a",
   "metadata": {},
   "outputs": [],
   "source": [
    "import pandas as pd"
   ]
  },
  {
   "cell_type": "code",
   "execution_count": 2,
   "id": "436e151a",
   "metadata": {},
   "outputs": [],
   "source": [
    "irisdf = pd.read_csv('iris_csv.csv')"
   ]
  },
  {
   "cell_type": "markdown",
   "id": "0df9d236",
   "metadata": {},
   "source": [
    "Q1. Missing Values\n",
    "\n",
    "Check if there are any missing values in the irisdf data set."
   ]
  },
  {
   "cell_type": "code",
   "execution_count": 3,
   "id": "a9f12197",
   "metadata": {},
   "outputs": [
    {
     "name": "stdout",
     "output_type": "stream",
     "text": [
      "sepallength    0\n",
      "sepalwidth     0\n",
      "petallength    0\n",
      "petalwidth     0\n",
      "class          0\n",
      "dtype: int64\n"
     ]
    }
   ],
   "source": [
    "missing_values = irisdf.isnull().sum()\n",
    "print(missing_values)"
   ]
  },
  {
   "cell_type": "markdown",
   "id": "87f52539",
   "metadata": {},
   "source": [
    "Q2. Find Duplicates\n",
    "\n",
    "There are three duplicate rows, display the rows."
   ]
  },
  {
   "cell_type": "code",
   "execution_count": 4,
   "id": "beaefa6f",
   "metadata": {},
   "outputs": [
    {
     "name": "stdout",
     "output_type": "stream",
     "text": [
      "     sepallength  sepalwidth  petallength  petalwidth           class\n",
      "34           4.9         3.1          1.5         0.1     Iris-setosa\n",
      "37           4.9         3.1          1.5         0.1     Iris-setosa\n",
      "142          5.8         2.7          5.1         1.9  Iris-virginica\n"
     ]
    }
   ],
   "source": [
    "duplicate_rows = irisdf[irisdf.duplicated()]\n",
    "print(duplicate_rows)"
   ]
  },
  {
   "cell_type": "markdown",
   "id": "01fdca5f",
   "metadata": {},
   "source": [
    "Q3. Calculate Mean\n",
    "\n",
    "Find the mean sepallength and store it in a variable called mean_sepallength"
   ]
  },
  {
   "cell_type": "code",
   "execution_count": 5,
   "id": "128045f4",
   "metadata": {},
   "outputs": [
    {
     "name": "stdout",
     "output_type": "stream",
     "text": [
      "5.843333333333334\n"
     ]
    }
   ],
   "source": [
    "mean_sepallength = irisdf['sepallength'].mean()\n",
    "print(mean_sepallength)"
   ]
  },
  {
   "cell_type": "markdown",
   "id": "cc73e125",
   "metadata": {},
   "source": [
    "Q4. Set Value\n",
    "\n",
    "Set the sepallength of the row with index 34 to the mean value found."
   ]
  },
  {
   "cell_type": "code",
   "execution_count": 6,
   "id": "6c513d77",
   "metadata": {},
   "outputs": [],
   "source": [
    "irisdf.loc[34, 'sepallength'] = mean_sepallength"
   ]
  },
  {
   "cell_type": "code",
   "execution_count": 9,
   "id": "03ca70ad",
   "metadata": {},
   "outputs": [
    {
     "name": "stdout",
     "output_type": "stream",
     "text": [
      "     sepallength  sepalwidth  petallength  petalwidth           class\n",
      "37           4.9         3.1          1.5         0.1     Iris-setosa\n",
      "142          5.8         2.7          5.1         1.9  Iris-virginica\n"
     ]
    }
   ],
   "source": [
    "duplicate_rows = irisdf[irisdf.duplicated()]\n",
    "print(duplicate_rows)"
   ]
  },
  {
   "cell_type": "markdown",
   "id": "4029a808",
   "metadata": {},
   "source": [
    "Q5. Drop Duplicates\n",
    "\n",
    "Drop the rows with duplicates"
   ]
  },
  {
   "cell_type": "code",
   "execution_count": 10,
   "id": "9be9d209",
   "metadata": {},
   "outputs": [],
   "source": [
    "irisdf.drop_duplicates(inplace=True)"
   ]
  },
  {
   "cell_type": "code",
   "execution_count": 11,
   "id": "61ad4a76",
   "metadata": {},
   "outputs": [
    {
     "name": "stdout",
     "output_type": "stream",
     "text": [
      "Empty DataFrame\n",
      "Columns: [sepallength, sepalwidth, petallength, petalwidth, class]\n",
      "Index: []\n"
     ]
    }
   ],
   "source": [
    "duplicate_rows = irisdf[irisdf.duplicated()]\n",
    "print(duplicate_rows)"
   ]
  },
  {
   "cell_type": "markdown",
   "id": "973620e9",
   "metadata": {},
   "source": [
    "Q6. Set as NA\n",
    "\n",
    "Set the sepalwidth of the row with index 34 to pd.NA (which is pandas for NULL value)"
   ]
  },
  {
   "cell_type": "code",
   "execution_count": 14,
   "id": "5dca01a9",
   "metadata": {},
   "outputs": [],
   "source": [
    "irisdf.loc[34, 'sepalwidth'] = pd.NA"
   ]
  },
  {
   "cell_type": "code",
   "execution_count": 15,
   "id": "51950109",
   "metadata": {},
   "outputs": [
    {
     "name": "stdout",
     "output_type": "stream",
     "text": [
      "sepallength       5.843333\n",
      "sepalwidth             NaN\n",
      "petallength            1.5\n",
      "petalwidth             0.1\n",
      "class          Iris-setosa\n",
      "Name: 34, dtype: object\n"
     ]
    }
   ],
   "source": [
    "print(irisdf.loc[34])"
   ]
  },
  {
   "cell_type": "markdown",
   "id": "f9d08d7c",
   "metadata": {},
   "source": [
    "Q7. Find Rows with Missing Values\n",
    "\n",
    "Find the rows with any NA values"
   ]
  },
  {
   "cell_type": "code",
   "execution_count": 17,
   "id": "d0431afe",
   "metadata": {},
   "outputs": [
    {
     "name": "stdout",
     "output_type": "stream",
     "text": [
      "    sepallength  sepalwidth  petallength  petalwidth        class\n",
      "34     5.843333         NaN          1.5         0.1  Iris-setosa\n"
     ]
    }
   ],
   "source": [
    "rows_with_missing_values = irisdf[irisdf.isna().any(axis=1)]\n",
    "print(rows_with_missing_values)"
   ]
  },
  {
   "cell_type": "markdown",
   "id": "fb18f77f",
   "metadata": {},
   "source": [
    "Q8. Drop Rows with Missing Values\n",
    "\n",
    "Now drop the rows with missing values with the argument inplace = True"
   ]
  },
  {
   "cell_type": "code",
   "execution_count": 18,
   "id": "4093e83f",
   "metadata": {},
   "outputs": [],
   "source": [
    "irisdf.dropna(inplace=True)\n"
   ]
  },
  {
   "cell_type": "code",
   "execution_count": 19,
   "id": "288335b1",
   "metadata": {},
   "outputs": [
    {
     "name": "stdout",
     "output_type": "stream",
     "text": [
      "Empty DataFrame\n",
      "Columns: [sepallength, sepalwidth, petallength, petalwidth, class]\n",
      "Index: []\n"
     ]
    }
   ],
   "source": [
    "rows_with_missing_values = irisdf[irisdf.isna().any(axis=1)]\n",
    "print(rows_with_missing_values)"
   ]
  },
  {
   "cell_type": "code",
   "execution_count": null,
   "id": "290d670b",
   "metadata": {},
   "outputs": [],
   "source": []
  }
 ],
 "metadata": {
  "kernelspec": {
   "display_name": "Python 3 (ipykernel)",
   "language": "python",
   "name": "python3"
  },
  "language_info": {
   "codemirror_mode": {
    "name": "ipython",
    "version": 3
   },
   "file_extension": ".py",
   "mimetype": "text/x-python",
   "name": "python",
   "nbconvert_exporter": "python",
   "pygments_lexer": "ipython3",
   "version": "3.11.4"
  }
 },
 "nbformat": 4,
 "nbformat_minor": 5
}
