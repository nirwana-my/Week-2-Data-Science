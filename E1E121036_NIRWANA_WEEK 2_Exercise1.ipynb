{
 "cells": [
  {
   "cell_type": "markdown",
   "id": "5a590d39",
   "metadata": {},
   "source": [
    "# Exercise : List, Tuples, Sets"
   ]
  },
  {
   "cell_type": "code",
   "execution_count": 1,
   "id": "6d75ae93",
   "metadata": {},
   "outputs": [
    {
     "name": "stdout",
     "output_type": "stream",
     "text": [
      "['Java', 'Python', 'C++', 'Kotlin']\n"
     ]
    }
   ],
   "source": [
    "languages = [\"Java\", \"Python\", \"C++\", \"Kotlin\"]\n",
    "print(languages)"
   ]
  },
  {
   "cell_type": "markdown",
   "id": "2615da49",
   "metadata": {},
   "source": [
    "Q1. Print the second element in the list using its index."
   ]
  },
  {
   "cell_type": "code",
   "execution_count": 2,
   "id": "42bb8a36",
   "metadata": {},
   "outputs": [
    {
     "name": "stdout",
     "output_type": "stream",
     "text": [
      "Python\n"
     ]
    }
   ],
   "source": [
    "print(languages[1])"
   ]
  },
  {
   "cell_type": "markdown",
   "id": "527e902f",
   "metadata": {},
   "source": [
    "Q2. Print the last element in the list."
   ]
  },
  {
   "cell_type": "code",
   "execution_count": 3,
   "id": "a3f4ed91",
   "metadata": {},
   "outputs": [
    {
     "name": "stdout",
     "output_type": "stream",
     "text": [
      "Kotlin\n"
     ]
    }
   ],
   "source": [
    "print(languages[-1])"
   ]
  },
  {
   "cell_type": "markdown",
   "id": "06057a63",
   "metadata": {},
   "source": [
    "Q3. Using slicing, print the elements \"Java\" and \"C++\""
   ]
  },
  {
   "cell_type": "code",
   "execution_count": 4,
   "id": "5e790a49",
   "metadata": {},
   "outputs": [
    {
     "name": "stdout",
     "output_type": "stream",
     "text": [
      "['Java', 'C++']\n"
     ]
    }
   ],
   "source": [
    "print(languages[0:3:2])"
   ]
  },
  {
   "cell_type": "markdown",
   "id": "ce6a1465",
   "metadata": {},
   "source": [
    "Q4. Add the language \"R\" in the list so that it appears before \"Python\""
   ]
  },
  {
   "cell_type": "code",
   "execution_count": 5,
   "id": "a06581f0",
   "metadata": {},
   "outputs": [
    {
     "name": "stdout",
     "output_type": "stream",
     "text": [
      "['Java', 'R', 'Python', 'C++', 'Kotlin']\n"
     ]
    }
   ],
   "source": [
    "languages.insert(1, \"R\")\n",
    "print(languages)"
   ]
  },
  {
   "cell_type": "markdown",
   "id": "155e9efb",
   "metadata": {},
   "source": [
    "Q5. Remove the last element in the list."
   ]
  },
  {
   "cell_type": "code",
   "execution_count": 6,
   "id": "e9a8245e",
   "metadata": {},
   "outputs": [
    {
     "name": "stdout",
     "output_type": "stream",
     "text": [
      "['Java', 'R', 'Python', 'C++']\n"
     ]
    }
   ],
   "source": [
    "languages.pop()\n",
    "print(languages)"
   ]
  },
  {
   "cell_type": "markdown",
   "id": "b24cb06a",
   "metadata": {},
   "source": [
    "Q6. Change the list to a tuple and run the cells for the rest of the commands that you have written. Which ones can execute without errors?"
   ]
  },
  {
   "cell_type": "code",
   "execution_count": 13,
   "id": "41c4c3b1",
   "metadata": {},
   "outputs": [
    {
     "name": "stdout",
     "output_type": "stream",
     "text": [
      "Java\n",
      "R\n",
      "('Python', 'Java')\n"
     ]
    }
   ],
   "source": [
    "languages = tuple(languages)\n",
    "print(languages[1])\n",
    "print(languages[-1])\n",
    "print(languages[:2])"
   ]
  },
  {
   "cell_type": "markdown",
   "id": "f96ef4b4",
   "metadata": {},
   "source": [
    "Q7. Change the list of a set and run the commands for the rest of the commands that you have written. Which ones can execute without errors?"
   ]
  },
  {
   "cell_type": "code",
   "execution_count": 14,
   "id": "69db292a",
   "metadata": {},
   "outputs": [
    {
     "ename": "TypeError",
     "evalue": "'set' object is not subscriptable",
     "output_type": "error",
     "traceback": [
      "\u001b[1;31m---------------------------------------------------------------------------\u001b[0m",
      "\u001b[1;31mTypeError\u001b[0m                                 Traceback (most recent call last)",
      "Cell \u001b[1;32mIn[14], line 2\u001b[0m\n\u001b[0;32m      1\u001b[0m languages \u001b[38;5;241m=\u001b[39m \u001b[38;5;28mset\u001b[39m(languages)\n\u001b[1;32m----> 2\u001b[0m \u001b[38;5;28mprint\u001b[39m(languages[\u001b[38;5;241m1\u001b[39m])\n\u001b[0;32m      3\u001b[0m \u001b[38;5;28mprint\u001b[39m(languages[\u001b[38;5;241m-\u001b[39m\u001b[38;5;241m1\u001b[39m])\n\u001b[0;32m      4\u001b[0m \u001b[38;5;28mprint\u001b[39m(languages[:\u001b[38;5;241m2\u001b[39m])\n",
      "\u001b[1;31mTypeError\u001b[0m: 'set' object is not subscriptable"
     ]
    }
   ],
   "source": [
    "languages = set(languages)\n",
    "print(languages[1])\n",
    "print(languages[-1])\n",
    "print(languages[:2])"
   ]
  },
  {
   "cell_type": "markdown",
   "id": "58252e54",
   "metadata": {},
   "source": []
  }
 ],
 "metadata": {
  "kernelspec": {
   "display_name": "Python 3 (ipykernel)",
   "language": "python",
   "name": "python3"
  },
  "language_info": {
   "codemirror_mode": {
    "name": "ipython",
    "version": 3
   },
   "file_extension": ".py",
   "mimetype": "text/x-python",
   "name": "python",
   "nbconvert_exporter": "python",
   "pygments_lexer": "ipython3",
   "version": "3.11.4"
  }
 },
 "nbformat": 4,
 "nbformat_minor": 5
}
